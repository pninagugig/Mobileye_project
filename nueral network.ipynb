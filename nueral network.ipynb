{
 "cells": [
  {
   "cell_type": "code",
   "execution_count": 1,
   "metadata": {},
   "outputs": [],
   "source": [
    "from tensorflow.keras.models import Sequential\n",
    "from tensorflow.keras.layers import Input, Dense, Flatten, Activation,MaxPooling2D,BatchNormalization,Activation, Conv2D"
   ]
  },
  {
   "cell_type": "code",
   "execution_count": 2,
   "metadata": {},
   "outputs": [
    {
     "name": "stdout",
     "output_type": "stream",
     "text": [
      "WARNING:tensorflow:From C:\\Users\\RENT\\AppData\\Roaming\\Python\\Python37\\site-packages\\tensorflow_core\\python\\ops\\resource_variable_ops.py:1630: calling BaseResourceVariable.__init__ (from tensorflow.python.ops.resource_variable_ops) with constraint is deprecated and will be removed in a future version.\n",
      "Instructions for updating:\n",
      "If using Keras pass *_constraint arguments to layers.\n",
      "Model: \"sequential\"\n",
      "_________________________________________________________________\n",
      "Layer (type)                 Output Shape              Param #   \n",
      "=================================================================\n",
      "conv2d (Conv2D)              (None, 79, 79, 32)        864       \n",
      "_________________________________________________________________\n",
      "batch_normalization (BatchNo (None, 79, 79, 32)        128       \n",
      "_________________________________________________________________\n",
      "activation (Activation)      (None, 79, 79, 32)        0         \n",
      "_________________________________________________________________\n",
      "conv2d_1 (Conv2D)            (None, 77, 77, 32)        9216      \n",
      "_________________________________________________________________\n",
      "batch_normalization_1 (Batch (None, 77, 77, 32)        128       \n",
      "_________________________________________________________________\n",
      "activation_1 (Activation)    (None, 77, 77, 32)        0         \n",
      "_________________________________________________________________\n",
      "conv2d_2 (Conv2D)            (None, 38, 38, 32)        9216      \n",
      "_________________________________________________________________\n",
      "batch_normalization_2 (Batch (None, 38, 38, 32)        128       \n",
      "_________________________________________________________________\n",
      "activation_2 (Activation)    (None, 38, 38, 32)        0         \n",
      "_________________________________________________________________\n",
      "conv2d_3 (Conv2D)            (None, 36, 36, 64)        18432     \n",
      "_________________________________________________________________\n",
      "batch_normalization_3 (Batch (None, 36, 36, 64)        256       \n",
      "_________________________________________________________________\n",
      "activation_3 (Activation)    (None, 36, 36, 64)        0         \n",
      "_________________________________________________________________\n",
      "conv2d_4 (Conv2D)            (None, 34, 34, 64)        36864     \n",
      "_________________________________________________________________\n",
      "batch_normalization_4 (Batch (None, 34, 34, 64)        256       \n",
      "_________________________________________________________________\n",
      "activation_4 (Activation)    (None, 34, 34, 64)        0         \n",
      "_________________________________________________________________\n",
      "conv2d_5 (Conv2D)            (None, 16, 16, 64)        36864     \n",
      "_________________________________________________________________\n",
      "batch_normalization_5 (Batch (None, 16, 16, 64)        256       \n",
      "_________________________________________________________________\n",
      "activation_5 (Activation)    (None, 16, 16, 64)        0         \n",
      "_________________________________________________________________\n",
      "conv2d_6 (Conv2D)            (None, 14, 14, 96)        55296     \n",
      "_________________________________________________________________\n",
      "batch_normalization_6 (Batch (None, 14, 14, 96)        384       \n",
      "_________________________________________________________________\n",
      "activation_6 (Activation)    (None, 14, 14, 96)        0         \n",
      "_________________________________________________________________\n",
      "conv2d_7 (Conv2D)            (None, 12, 12, 96)        82944     \n",
      "_________________________________________________________________\n",
      "batch_normalization_7 (Batch (None, 12, 12, 96)        384       \n",
      "_________________________________________________________________\n",
      "activation_7 (Activation)    (None, 12, 12, 96)        0         \n",
      "_________________________________________________________________\n",
      "conv2d_8 (Conv2D)            (None, 5, 5, 96)          82944     \n",
      "_________________________________________________________________\n",
      "batch_normalization_8 (Batch (None, 5, 5, 96)          384       \n",
      "_________________________________________________________________\n",
      "activation_8 (Activation)    (None, 5, 5, 96)          0         \n",
      "_________________________________________________________________\n",
      "flatten (Flatten)            (None, 2400)              0         \n",
      "_________________________________________________________________\n",
      "dense (Dense)                (None, 96)                230400    \n",
      "_________________________________________________________________\n",
      "batch_normalization_9 (Batch (None, 96)                384       \n",
      "_________________________________________________________________\n",
      "activation_9 (Activation)    (None, 96)                0         \n",
      "_________________________________________________________________\n",
      "dense_1 (Dense)              (None, 2)                 194       \n",
      "=================================================================\n",
      "Total params: 565,922\n",
      "Trainable params: 564,578\n",
      "Non-trainable params: 1,344\n",
      "_________________________________________________________________\n"
     ]
    }
   ],
   "source": [
    "def tfl_model():\n",
    "    input_shape =(81,81,3)\n",
    "    model = Sequential()\n",
    "    def conv_bn_relu(filters,**conv_kw):\n",
    "        model.add(Conv2D(filters,  use_bias=False, kernel_initializer='he_normal',**conv_kw))\n",
    "        model.add(BatchNormalization())\n",
    "        model.add(Activation('relu'))\n",
    "    def dense_bn_relu(units):\n",
    "        model.add(Dense(units, use_bias=False,kernel_initializer='he_normal'))\n",
    "        model.add(BatchNormalization())\n",
    "        model.add(Activation('relu'))\n",
    "    def spatial_layer(count, filters): \n",
    "        for i in range(count):\n",
    "            conv_bn_relu(filters,kernel_size=(3,3))\n",
    "        conv_bn_relu(filters, kernel_size=(3,3),strides=(2,2))\n",
    "    conv_bn_relu(32,kernel_size=(3,3),input_shape=input_shape)\n",
    "    spatial_layer(1,32) \n",
    "    spatial_layer(2,64)\n",
    "    spatial_layer(2,96) \n",
    "    model.add(Flatten())\n",
    "    dense_bn_relu(96)\n",
    "    model.add(Dense(2, activation='softmax'))\n",
    "    return model\n",
    "m = tfl_model()\n",
    "m.summary()"
   ]
  },
  {
   "cell_type": "code",
   "execution_count": 3,
   "metadata": {},
   "outputs": [
    {
     "ename": "NameError",
     "evalue": "name 'load_tfl_data' is not defined",
     "output_type": "error",
     "traceback": [
      "\u001b[1;31m-----------------------------------------------------------------\u001b[0m",
      "\u001b[1;31mNameError\u001b[0m                       Traceback (most recent call last)",
      "\u001b[1;32m<ipython-input-3-bb1b259e6717>\u001b[0m in \u001b[0;36m<module>\u001b[1;34m\u001b[0m\n\u001b[0;32m      3\u001b[0m \u001b[0mdata_dir\u001b[0m \u001b[1;33m=\u001b[0m \u001b[1;34m'/tmp/scaleup/'\u001b[0m\u001b[1;33m\u001b[0m\u001b[1;33m\u001b[0m\u001b[0m\n\u001b[0;32m      4\u001b[0m datasets = {\n\u001b[1;32m----> 5\u001b[1;33m     \u001b[1;34m'val'\u001b[0m\u001b[1;33m:\u001b[0m\u001b[0mload_tfl_data\u001b[0m\u001b[1;33m(\u001b[0m\u001b[0mjoin\u001b[0m\u001b[1;33m(\u001b[0m\u001b[0mdata_dir\u001b[0m\u001b[1;33m,\u001b[0m\u001b[1;34m'val'\u001b[0m\u001b[1;33m)\u001b[0m\u001b[1;33m)\u001b[0m\u001b[1;33m,\u001b[0m\u001b[1;33m\u001b[0m\u001b[1;33m\u001b[0m\u001b[0m\n\u001b[0m\u001b[0;32m      6\u001b[0m     \u001b[1;34m'train'\u001b[0m\u001b[1;33m:\u001b[0m \u001b[0mload_tfl_data\u001b[0m\u001b[1;33m(\u001b[0m\u001b[0mjoin\u001b[0m\u001b[1;33m(\u001b[0m\u001b[0mdata_dir\u001b[0m\u001b[1;33m,\u001b[0m\u001b[1;34m'train'\u001b[0m\u001b[1;33m)\u001b[0m\u001b[1;33m)\u001b[0m\u001b[1;33m,\u001b[0m\u001b[1;33m\u001b[0m\u001b[1;33m\u001b[0m\u001b[0m\n\u001b[0;32m      7\u001b[0m     }\n",
      "\u001b[1;31mNameError\u001b[0m: name 'load_tfl_data' is not defined"
     ]
    }
   ],
   "source": [
    "from tensorflow.keras.losses import sparse_categorical_crossentropy\n",
    "from tensorflow.keras.optimizers import Adam\n",
    "data_dir = '/tmp/scaleup/'\n",
    "datasets = {\n",
    "    'val':load_tfl_data(join(data_dir,'val')),\n",
    "    'train': load_tfl_data(join(data_dir,'train')),\n",
    "    }\n",
    "#prepare our model\n",
    "m = tfl_model()\n",
    "m.compile(optimizer=Adam(),loss =sparse_categorical_crossentropy,metrics=['accuracy'])\n",
    "train,val = datasets['train'],datasets['val']\n",
    "#train it, the model uses the 'train' dataset for learning. We evaluate the \"goodness\" of the model, by predicting the label of the images in the val dataset.\n",
    "history=m.fit(train['images'],train['labels'],validation_data=(val['images'],val['labels']),epochs = 2)"
   ]
  },
  {
   "cell_type": "code",
   "execution_count": null,
   "metadata": {},
   "outputs": [],
   "source": []
  }
 ],
 "metadata": {
  "kernelspec": {
   "display_name": "Python 3",
   "language": "python",
   "name": "python3"
  },
  "language_info": {
   "codemirror_mode": {
    "name": "ipython",
    "version": 3
   },
   "file_extension": ".py",
   "mimetype": "text/x-python",
   "name": "python",
   "nbconvert_exporter": "python",
   "pygments_lexer": "ipython3",
   "version": "3.7.7"
  }
 },
 "nbformat": 4,
 "nbformat_minor": 4
}
